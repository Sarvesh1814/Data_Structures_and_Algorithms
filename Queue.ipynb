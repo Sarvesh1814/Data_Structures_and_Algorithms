{
 "cells": [
  {
   "cell_type": "code",
   "execution_count": 1,
   "metadata": {},
   "outputs": [],
   "source": [
    "from collections import deque"
   ]
  },
  {
   "cell_type": "code",
   "execution_count": 2,
   "metadata": {},
   "outputs": [],
   "source": [
    "class Queue:\n",
    "\n",
    "    def __init__(self):\n",
    "        self.buffer = deque()\n",
    "\n",
    "    def enqueue(self,val):\n",
    "        return self.buffer.appendleft(val)\n",
    "    \n",
    "    def dequeue(self):\n",
    "        return self.buffer.pop()\n",
    "    \n",
    "    def size(self):\n",
    "        return len(self.buffer)\n",
    "    \n",
    "    def front_pop(self):\n",
    "        return self.buffer.popleft()"
   ]
  },
  {
   "cell_type": "code",
   "execution_count": 3,
   "metadata": {},
   "outputs": [],
   "source": [
    "a = Queue()\n",
    "a.enqueue(32)\n",
    "a.enqueue(85)\n",
    "a.enqueue(3)\n",
    "a.enqueue(2)"
   ]
  },
  {
   "cell_type": "code",
   "execution_count": 4,
   "metadata": {},
   "outputs": [
    {
     "data": {
      "text/plain": [
       "deque([2, 3, 85, 32])"
      ]
     },
     "execution_count": 4,
     "metadata": {},
     "output_type": "execute_result"
    }
   ],
   "source": [
    "a.buffer"
   ]
  },
  {
   "cell_type": "markdown",
   "metadata": {},
   "source": [
    "### EXERCISE-1\n",
    "Design a food ordering system where your python program will run two threads,\n",
    "\n",
    "Place Order: This thread will be placing an order and inserting that into a queue. This thread places new order every 0.5 second. (hint: use time.sleep(0.5) function)\n",
    "Serve Order: This thread will server the order. All you need to do is pop the order out of the queue and print it. This thread serves an order every 2 seconds. Also start this thread 1 second after place order thread is started.\n",
    "Use this video to get yourself familiar with multithreading in python\n",
    "\n",
    "Pass following list as an argument to place order thread,\n",
    "\n",
    "orders = ['pizza','samosa','pasta','biryani','burger']"
   ]
  },
  {
   "cell_type": "code",
   "execution_count": 5,
   "metadata": {},
   "outputs": [],
   "source": [
    "import time\n",
    "import threading\n",
    "\n",
    "orders = ['pizza','samosa','pasta','biryani','burger']\n",
    "\n",
    "order= Queue()\n",
    "\n",
    "def place_order(X=orders):\n",
    "    for i in orders:\n",
    "        order.enqueue(i)\n",
    "        print(\"Placing Order: \", i)\n",
    "        time.sleep(0.5)\n",
    "        \n",
    "        \n",
    "\n",
    "def serve_order():\n",
    "    time.sleep(1)\n",
    "    while order.size() !=0:\n",
    "        \n",
    "        aa= order.dequeue()\n",
    "        print(\"Serving Order: \", aa)\n",
    "        time.sleep(2)"
   ]
  },
  {
   "cell_type": "code",
   "execution_count": 6,
   "metadata": {},
   "outputs": [
    {
     "name": "stdout",
     "output_type": "stream",
     "text": [
      "Placing Order:  pizza\n",
      "Placing Order:  samosa\n",
      "Serving Order:  pizza\n",
      "Placing Order:  pasta\n",
      "Placing Order:  biryani\n",
      "Placing Order:  burger\n",
      "Serving Order:  samosa\n",
      "Serving Order:  pasta\n",
      "Serving Order:  biryani\n",
      "Serving Order:  burger\n",
      "Shop Closed\n"
     ]
    }
   ],
   "source": [
    "t1= threading.Thread(target=place_order)\n",
    "t2= threading.Thread(target= serve_order)\n",
    "\n",
    "t1.start()\n",
    "t2.start()\n",
    "\n",
    "t1.join()\n",
    "t2.join()\n",
    "\n",
    "print(\"Shop Closed\")"
   ]
  },
  {
   "cell_type": "markdown",
   "metadata": {},
   "source": [
    "Write a program to print binary numbers from 1 to 10 using Queue. Use Queue class implemented in main tutorial."
   ]
  },
  {
   "cell_type": "code",
   "execution_count": 7,
   "metadata": {},
   "outputs": [],
   "source": [
    "\n",
    "def Dec_Bin(Number):\n",
    "    if Number==0:\n",
    "        print('0')\n",
    "        return 0\n",
    "    bb= Queue()\n",
    "    while Number>=1:\n",
    "        a=Number%2\n",
    "        bb.enqueue(a)\n",
    "        Number =Number//2\n",
    "    c=''\n",
    "    while bb.size()!=0:\n",
    "        c=c+str(bb.front_pop())\n",
    "    print(c)"
   ]
  },
  {
   "cell_type": "code",
   "execution_count": 8,
   "metadata": {},
   "outputs": [
    {
     "name": "stdout",
     "output_type": "stream",
     "text": [
      "0\n",
      "1\n",
      "10\n",
      "11\n",
      "100\n",
      "101\n",
      "110\n",
      "111\n",
      "1000\n",
      "1001\n",
      "1010\n"
     ]
    }
   ],
   "source": [
    "for i in range(0,11):\n",
    "    Dec_Bin(i)"
   ]
  },
  {
   "cell_type": "code",
   "execution_count": null,
   "metadata": {},
   "outputs": [],
   "source": []
  },
  {
   "cell_type": "code",
   "execution_count": null,
   "metadata": {},
   "outputs": [],
   "source": []
  }
 ],
 "metadata": {
  "interpreter": {
   "hash": "ff8fa0ad56ef3edd9dd54cfd0463723722da44c00eeb447c3ef2af4466e6b105"
  },
  "kernelspec": {
   "display_name": "Python 3.10.2 64-bit",
   "language": "python",
   "name": "python3"
  },
  "language_info": {
   "codemirror_mode": {
    "name": "ipython",
    "version": 3
   },
   "file_extension": ".py",
   "mimetype": "text/x-python",
   "name": "python",
   "nbconvert_exporter": "python",
   "pygments_lexer": "ipython3",
   "version": "3.10.2"
  },
  "orig_nbformat": 4
 },
 "nbformat": 4,
 "nbformat_minor": 2
}
