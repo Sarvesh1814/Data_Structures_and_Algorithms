{
 "cells": [
  {
   "cell_type": "code",
   "execution_count": 40,
   "metadata": {},
   "outputs": [],
   "source": [
    "class HashTable:\n",
    "    def __init__(self):\n",
    "        self.MAX = 10\n",
    "        self.arr=[[] for i in range(self.MAX)]\n",
    "    \n",
    "    def get_hash(self,key):\n",
    "        hash = 0\n",
    "        for char in key:\n",
    "            hash+=ord(char)         #generating hashsum value\n",
    "        return hash % self.MAX      #returns the hash value \n",
    "    \n",
    "    \n",
    "    def __getitem__(self, key):\n",
    "        h= self.get_hash(key)       #h is pointed to the hash key\n",
    "        for i in self.arr[h]:       # now the target variable is the h location in array which is collection of other arrays  \n",
    "            if i[0]== key:          # searhing for the key in the h-th  array of the main array\n",
    "                return i[1]         # when key is found in h-th array it returns its value\n",
    "    \n",
    "    def __setitem__(self,key,value): \n",
    "        h=self.get_hash(key)        \n",
    "        condition = False           # condition for checking whether the key already exists or not \n",
    "        for index, element in enumerate(self.arr[h]): # enumerating the h-th array to check whether key already exists or not\n",
    "            if len(element) == 2 and element[0]== key: # element == 2 (key,value), element[0] is the first element in the tuple \n",
    "                self.arr[h][index] = (key,value)\n",
    "                condition = True\n",
    "        if not condition:           # new key then simply append it in the h-th array \n",
    "            self.arr[h].append((key,value))\n",
    "\n",
    "    def __delitem__(self,key):\n",
    "        h=self.get_hash(key)\n",
    "        #method 1\n",
    "        # count=0\n",
    "        # for i in self.arr[h]:\n",
    "            # if i[0]== key:\n",
    "                # print(\"deleting\", key, \"at index\", count)\n",
    "                # del self.arr[h][count]\n",
    "                # break\n",
    "        # count+=1\n",
    "        \n",
    "        #method 2         \n",
    "        for index, ele in enumerate(self.arr[h]):\n",
    "            if ele[0]==key:\n",
    "                print(\"deleting\", key, \"at index\", index)\n",
    "                del self.arr[h][index]\n",
    "                break\n",
    "\n"
   ]
  },
  {
   "cell_type": "code",
   "execution_count": 41,
   "metadata": {},
   "outputs": [],
   "source": [
    "t=HashTable()\n",
    "t[\"march 6\"] = 310\n",
    "t[\"march 7\"] = 420\n",
    "t[\"march 8\"] = 67\n",
    "t[\"march 17\"]= 32"
   ]
  },
  {
   "cell_type": "code",
   "execution_count": 42,
   "metadata": {},
   "outputs": [
    {
     "data": {
      "text/plain": [
       "[[('march 7', 420)],\n",
       " [('march 8', 67)],\n",
       " [],\n",
       " [],\n",
       " [],\n",
       " [],\n",
       " [],\n",
       " [],\n",
       " [],\n",
       " [('march 6', 310), ('march 17', 32)]]"
      ]
     },
     "execution_count": 42,
     "metadata": {},
     "output_type": "execute_result"
    }
   ],
   "source": [
    "t.arr"
   ]
  },
  {
   "cell_type": "code",
   "execution_count": 43,
   "metadata": {},
   "outputs": [
    {
     "name": "stdout",
     "output_type": "stream",
     "text": [
      "deleting march 6 at index 0\n"
     ]
    }
   ],
   "source": [
    "del t[\"march 6\"]"
   ]
  },
  {
   "cell_type": "code",
   "execution_count": 44,
   "metadata": {},
   "outputs": [
    {
     "data": {
      "text/plain": [
       "[[('march 7', 420)],\n",
       " [('march 8', 67)],\n",
       " [],\n",
       " [],\n",
       " [],\n",
       " [],\n",
       " [],\n",
       " [],\n",
       " [],\n",
       " [('march 17', 32)]]"
      ]
     },
     "execution_count": 44,
     "metadata": {},
     "output_type": "execute_result"
    }
   ],
   "source": [
    "t.arr"
   ]
  }
 ],
 "metadata": {
  "interpreter": {
   "hash": "4075a444d5691da7166ca6c4e33591918e6f20d92f675842a7b402fec321f564"
  },
  "kernelspec": {
   "display_name": "Python 3.10.4 ('Machine_learning': venv)",
   "language": "python",
   "name": "python3"
  },
  "language_info": {
   "name": "python",
   "version": "3.10.4"
  },
  "orig_nbformat": 4
 },
 "nbformat": 4,
 "nbformat_minor": 2
}
